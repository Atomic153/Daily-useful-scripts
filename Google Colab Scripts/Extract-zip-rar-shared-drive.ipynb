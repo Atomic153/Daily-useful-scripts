{
 "cells": [
  {
   "cell_type": "code",
   "execution_count": null,
   "metadata": {},
   "outputs": [],
   "source": [
    "from google.colab import drive\n",
    "import os\n",
    "import zipfile\n",
    "from tqdm import tqdm\n",
    "\n",
    "\n",
    "drive.mount('/content/gdrive')\n",
    "\n",
    "\n",
    "def extract_zip(file_path, extract_path):\n",
    "    with zipfile.ZipFile(file_path, 'r') as zip_ref:\n",
    "\n",
    "        total_files = len(zip_ref.infolist())\n",
    "       ###### progress bar here\n",
    "        with tqdm(total=total_files, desc=f'Extracting {os.path.basename(file_path)}') as pbar:\n",
    "            for file in zip_ref.infolist():\n",
    "                zip_ref.extract(file, extract_path)\n",
    "                pbar.update(1)\n",
    "\n",
    "\n",
    "def extract_rar(file_path, extract_path):\n",
    "    import patoolib\n",
    "    patoolib.extract_archive(file_path, outdir=extract_path)\n",
    "\n",
    "#^^^^^^^^^^^^^^^^^^^^^^^^^^^^^^^^^^^^^^^^^^^^^^^^^^^^^^^^^^^^^^^^^#\n",
    "# replace the  Path to the zip/rar file\n",
    "zip_rar_file = '/content/gdrive/Shared drives/HL CLOUD # 123/zip file name or rar file name.zip'\n",
    "\n",
    "# replace your Path to the extraction folder\n",
    "extracted_folder_path = '/content/gdrive/Shared drives/HL CLOUD # 123/extracted_folder/'\n",
    "\n",
    "#ignore it\n",
    "if zip_rar_file.endswith('.zip'):\n",
    "    extract_zip(zip_rar_file, extracted_folder_path)\n",
    "\n",
    "elif zip_rar_file.endswith('.rar'):\n",
    "    extract_rar(zip_rar_file, extracted_folder_path)\n",
    "\n",
    "print(\"Extraction completed.\")\n"
   ]
  }
 ],
 "metadata": {
  "language_info": {
   "name": "python"
  }
 },
 "nbformat": 4,
 "nbformat_minor": 2
}
