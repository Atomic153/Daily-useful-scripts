{
  "nbformat": 4,
  "nbformat_minor": 0,
  "metadata": {
    "colab": {
      "provenance": []
    },
    "kernelspec": {
      "name": "python3",
      "display_name": "Python 3"
    },
    "language_info": {
      "name": "python"
    }
  },
  "cells": [
    {
      "cell_type": "code",
      "source": [
        "# Mount Google Drive\n",
        "from google.colab import drive\n",
        "drive.mount('/content/drive')"
      ],
      "metadata": {
        "colab": {
          "base_uri": "https://localhost:8080/"
        },
        "id": "I21FponnJCLN",
        "outputId": "c476a8ea-88b5-4852-bde3-cdcd48f9279a"
      },
      "execution_count": null,
      "outputs": [
        {
          "output_type": "stream",
          "name": "stdout",
          "text": [
            "Mounted at /content/drive\n"
          ]
        }
      ]
    },
    {
      "cell_type": "code",
      "execution_count": null,
      "metadata": {
        "colab": {
          "base_uri": "https://localhost:8080/"
        },
        "id": "u9PVEO4bI92V",
        "outputId": "fba815ae-eb71-44fe-ee52-a71dacb5ab29"
      },
      "outputs": [
        {
          "output_type": "stream",
          "name": "stdout",
          "text": [
            "File downloaded to /content/better call soul s02 ep06 .mkv\n",
            "File uploaded to Google Drive at /content/drive/Shareddrives/HL CLOUD #003081/GDFlixbetter call soul s02 ep06 .mkv\n"
          ]
        }
      ],
      "source": [
        "import requests\n",
        "\n",
        "import shutil\n",
        "import os\n",
        "\n",
        "\n",
        "\n",
        "# Define file URL and destination paths\n",
        "file_url = 'https://a-11.1fichier.com/c832602709'\n",
        "file_name = 'better call soul s02 ep06 .mkv'\n",
        "download_path = '/content/' + file_name\n",
        "upload_path = '/content/drive/Shareddrives/HL CLOUD #003081/GDFlix/' + file_name\n",
        "\n",
        "# Download file from 1fichier\n",
        "response = requests.get(file_url, stream=True)\n",
        "if response.status_code == 200:\n",
        "    with open(download_path, 'wb') as file:\n",
        "        shutil.copyfileobj(response.raw, file)\n",
        "    print(f\"File downloaded to {download_path}\")\n",
        "else:\n",
        "    print(\"Failed to download file\")\n",
        "\n",
        "# Upload file to Google Drive\n",
        "if os.path.exists(upload_path):\n",
        "    os.remove(upload_path)  # Remove existing file to avoid duplicates\n",
        "\n",
        "shutil.move(download_path, upload_path)\n",
        "print(f\"File uploaded to Google Drive at {upload_path}\")\n"
      ]
    }
  ]
}