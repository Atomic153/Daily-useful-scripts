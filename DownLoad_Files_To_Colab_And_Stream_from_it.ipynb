{
  "cells": [
    {
      "cell_type": "markdown",
      "metadata": {
        "id": "view-in-github",
        "colab_type": "text"
      },
      "source": [
        "<a href=\"https://colab.research.google.com/github/rahulhingve/Daily-useful-scripts/blob/main/DownLoad_Files_To_Colab_And_Stream_from_it.ipynb\" target=\"_parent\"><img src=\"https://colab.research.google.com/assets/colab-badge.svg\" alt=\"Open In Colab\"/></a>"
      ]
    },
    {
      "cell_type": "code",
      "execution_count": 3,
      "metadata": {
        "colab": {
          "base_uri": "https://localhost:8080/"
        },
        "id": "xKmHg_PKDXHP",
        "outputId": "4e75f488-7b8f-48d8-d7f7-b2c7bb470f82"
      },
      "outputs": [
        {
          "output_type": "stream",
          "name": "stderr",
          "text": [
            "ADGPM2myTXUFjKeihl9q9xp3jXLAnv_5dtBoOeudY8XnBguWrIa4NyxLhAF-lT8HvL0Muw_dggmBj1uTVCeibnmr9GyDGwBla-99JEuYWhmqXmwRgdsb_QrVrUU3zZB8npGrNltPH577A8O_r4_0hmbb4RENdCkwklw-zMJYNZm3jIUKjV-2eC2NIPLWCtt4eEOnjJa5yFYZ: 100%|██████████| 843M/843M [00:41<00:00, 21.1MB/s]"
          ]
        },
        {
          "output_type": "stream",
          "name": "stdout",
          "text": [
            "File has been downloaded to /content/DownloadedFiles/ADGPM2myTXUFjKeihl9q9xp3jXLAnv_5dtBoOeudY8XnBguWrIa4NyxLhAF-lT8HvL0Muw_dggmBj1uTVCeibnmr9GyDGwBla-99JEuYWhmqXmwRgdsb_QrVrUU3zZB8npGrNltPH577A8O_r4_0hmbb4RENdCkwklw-zMJYNZm3jIUKjV-2eC2NIPLWCtt4eEOnjJa5yFYZ\n"
          ]
        },
        {
          "output_type": "stream",
          "name": "stderr",
          "text": [
            "\n"
          ]
        }
      ],
      "source": [
        "from urllib.parse import urlparse, unquote\n",
        "import os\n",
        "import requests\n",
        "from tqdm import tqdm\n",
        "\n",
        "# File URL HEre YOU MAY Need TO change downloaded file name manually\n",
        "url = 'Paste URL HERE'\n",
        "target_directory = '/content/DownloadedFiles/'\n",
        "\n",
        "\n",
        "os.makedirs(target_directory, exist_ok=True)\n",
        "\n",
        "\n",
        "parsed_url = urlparse(url)\n",
        "file_name = os.path.basename(unquote(parsed_url.path))\n",
        "\n",
        "\n",
        "destination_path = os.path.join(target_directory, file_name)\n",
        "\n",
        "\n",
        "session = requests.Session()\n",
        "\n",
        "\n",
        "headers = {\n",
        "    'User-Agent': 'Mozilla/5.0 (Windows NT 10.0; Win64; x64) AppleWebKit/537.36 (KHTML, like Gecko) Chrome/58.0.3029.110 Safari/537.3'\n",
        "}\n",
        "\n",
        "\n",
        "response = session.get(url, headers=headers, stream=True)\n",
        "\n",
        "\n",
        "if response.status_code == 200:\n",
        "\n",
        "    total_size = int(response.headers.get('content-length', 0))\n",
        "\n",
        "\n",
        "    with open(destination_path, 'wb') as f, tqdm(\n",
        "        desc=file_name,\n",
        "        total=total_size,\n",
        "        unit='B',\n",
        "        unit_scale=True,\n",
        "        unit_divisor=1024,\n",
        "    ) as bar:\n",
        "        for chunk in response.iter_content(chunk_size=8192):\n",
        "            if chunk:\n",
        "                f.write(chunk)\n",
        "                bar.update(len(chunk))\n",
        "\n",
        "    print(f\"File has been downloaded to {destination_path}\")\n",
        "else:\n",
        "    print('Failed to download file. Status code:', response.status_code)\n"
      ]
    },
    {
      "cell_type": "code",
      "execution_count": null,
      "metadata": {
        "id": "FUiEXK4uEB2I"
      },
      "outputs": [],
      "source": [
        "\n",
        "!apt-get update\n",
        "!apt-get install apache2 -y\n",
        "\n",
        "\n",
        "!rm -rf /var/www/html\n",
        "!ln -s /content /var/www/html\n",
        "\n",
        "\n",
        "!service apache2 start\n",
        "\n",
        "\n",
        "!a2enmod headers\n",
        "!a2enmod mime\n",
        "!a2enmod setenvif\n",
        "\n",
        "\n",
        "!service apache2 restart\n",
        "\n",
        "\n",
        "!pip install pyngrok\n",
        "from pyngrok import ngrok\n",
        "\n",
        "\n",
        "# Replace 'YOUR_NGROK_AUTH_TOKEN' with your actual ngrok auth token\n",
        "ngrok.set_auth_token('YOUR_NGROK_AUTH_TOKEN-PASTE-HERE')\n",
        "\n",
        "\n",
        "public_url = ngrok.connect(80)\n",
        "print(f'Public URL: {public_url}')\n",
        "\n",
        "\n",
        "print(\"You can now access the files in the /content directory via the following URL:\")\n",
        "print(f\"{public_url}\")\n",
        "\n",
        "\n",
        "!ls /content\n"
      ]
    }
  ],
  "metadata": {
    "colab": {
      "provenance": [],
      "toc_visible": true,
      "authorship_tag": "ABX9TyMsF6xTZhsI8WhCau85KLn9",
      "include_colab_link": true
    },
    "kernelspec": {
      "display_name": "Python 3",
      "name": "python3"
    },
    "language_info": {
      "name": "python"
    }
  },
  "nbformat": 4,
  "nbformat_minor": 0
}