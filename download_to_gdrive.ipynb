{
  "nbformat": 4,
  "nbformat_minor": 0,
  "metadata": {
    "colab": {
      "provenance": [],
      "authorship_tag": "ABX9TyMYEZhaXbM0D7R2SAMPCkTT",
      "include_colab_link": true
    },
    "kernelspec": {
      "name": "python3",
      "display_name": "Python 3"
    },
    "language_info": {
      "name": "python"
    }
  },
  "cells": [
    {
      "cell_type": "markdown",
      "metadata": {
        "id": "view-in-github",
        "colab_type": "text"
      },
      "source": [
        "<a href=\"https://colab.research.google.com/github/rahulhingve/Daily-useful-scripts/blob/main/download_to_gdrive.ipynb\" target=\"_parent\"><img src=\"https://colab.research.google.com/assets/colab-badge.svg\" alt=\"Open In Colab\"/></a>"
      ]
    },
    {
      "cell_type": "code",
      "source": [
        "# Mount Google Drive\n",
        "from google.colab import drive\n",
        "drive.mount('/content/drive')"
      ],
      "metadata": {
        "colab": {
          "base_uri": "https://localhost:8080/"
        },
        "id": "I21FponnJCLN",
        "outputId": "69f82780-4ebc-4256-80eb-0d217b35632b"
      },
      "execution_count": null,
      "outputs": [
        {
          "output_type": "stream",
          "name": "stdout",
          "text": [
            "Mounted at /content/drive\n"
          ]
        }
      ]
    },
    {
      "cell_type": "code",
      "execution_count": null,
      "metadata": {
        "colab": {
          "base_uri": "https://localhost:8080/"
        },
        "id": "u9PVEO4bI92V",
        "outputId": "32620c8d-a5ba-42f1-b057-3b9f0c3b8c73"
      },
      "outputs": [
        {
          "output_type": "stream",
          "name": "stderr",
          "text": [
            "dl.php: 100%|██████████| 19.6G/19.6G [04:47<00:00, 72.9MB/s]\n"
          ]
        },
        {
          "output_type": "stream",
          "name": "stdout",
          "text": [
            "File has been uploaded to /content/drive/Shareddrives/HL CLOUD #003081/GDFlix/dl.php\n"
          ]
        }
      ],
      "source": [
        "\n",
        "import requests\n",
        "from urllib.parse import urlparse, unquote\n",
        "\n",
        "import os\n",
        "from tqdm import tqdm\n",
        "import shutil\n",
        "\n",
        "\n",
        "\n",
        "# Define the URL and the target directory in Google Drive\n",
        "url = 'https://hubcloud.day/re/dl.php?id=SXM4cDVHSVR6Z3QrVkVRMDJ5UllIbndIQXZmdVBmaUdwY3cvdURFT2hpalN5dlJtUFRDRFdnT2RzMjFOamFlK1hpV2FPOHlNZEZMUmlVQUdTVVJoOGJndlNoc1RMaWEvbWtzMzFKUHd2cGc9'\n",
        "target_directory = '/content/drive/Shareddrives/HL CLOUD #003081/GDFlix/'\n",
        "\n",
        "\n",
        "parsed_url = urlparse(url)\n",
        "file_name = os.path.basename(unquote(parsed_url.path))\n",
        "\n",
        "\n",
        "session = requests.Session()\n",
        "\n",
        "\n",
        "headers = {\n",
        "    'User-Agent': 'Mozilla/5.0 (Windows NT 10.0; Win64; x64) AppleWebKit/537.36 (KHTML, like Gecko) Chrome/58.0.3029.110 Safari/537.3'\n",
        "}\n",
        "\n",
        "\n",
        "response = session.get(url, headers=headers, stream=True)\n",
        "\n",
        "\n",
        "if response.status_code == 200:\n",
        "\n",
        "    total_size = int(response.headers.get('content-length', 0))\n",
        "\n",
        "\n",
        "    temp_file_path = f'/content/{file_name}'\n",
        "    with open(temp_file_path, 'wb') as f, tqdm(\n",
        "        desc=file_name,\n",
        "        total=total_size,\n",
        "        unit='B',\n",
        "        unit_scale=True,\n",
        "        unit_divisor=1024,\n",
        "    ) as bar:\n",
        "        for chunk in response.iter_content(chunk_size=8192):\n",
        "            if chunk:\n",
        "                f.write(chunk)\n",
        "                bar.update(len(chunk))\n",
        "\n",
        "\n",
        "    destination_path = os.path.join(target_directory, file_name)\n",
        "    shutil.move(temp_file_path, destination_path)\n",
        "    print(f\"File has been uploaded to {destination_path}\")\n",
        "else:\n",
        "    print('Failed to download file. Status code:', response.status_code)\n"
      ]
    }
  ]
}